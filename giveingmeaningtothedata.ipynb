{
  "nbformat": 4,
  "nbformat_minor": 0,
  "metadata": {
    "colab": {
      "name": "endGAME.ipynb",
      "provenance": [],
      "authorship_tag": "ABX9TyNp8nqi+3G3/oYVhVkTNAq7",
      "include_colab_link": true
    },
    "kernelspec": {
      "name": "python3",
      "display_name": "Python 3"
    }
  },
  "cells": [
    {
      "cell_type": "markdown",
      "metadata": {
        "id": "view-in-github",
        "colab_type": "text"
      },
      "source": [
        "<a href=\"https://colab.research.google.com/github/higgsboson1209/songswelove/blob/master/giveingmeaningtothedata.ipynb\" target=\"_parent\"><img src=\"https://colab.research.google.com/assets/colab-badge.svg\" alt=\"Open In Colab\"/></a>"
      ]
    },
    {
      "cell_type": "code",
      "metadata": {
        "id": "RmZRsQUhclP1",
        "colab_type": "code",
        "outputId": "309f3c51-1d6f-4d62-bf31-b647fcd3116c",
        "colab": {
          "base_uri": "https://localhost:8080/",
          "height": 125
        }
      },
      "source": [
        "from google.colab import drive\n",
        "drive.mount('/content/drive')"
      ],
      "execution_count": 0,
      "outputs": [
        {
          "output_type": "stream",
          "text": [
            "Go to this URL in a browser: https://accounts.google.com/o/oauth2/auth?client_id=947318989803-6bn6qk8qdgf4n4g3pfee6491hc0brc4i.apps.googleusercontent.com&redirect_uri=urn%3aietf%3awg%3aoauth%3a2.0%3aoob&response_type=code&scope=email%20https%3a%2f%2fwww.googleapis.com%2fauth%2fdocs.test%20https%3a%2f%2fwww.googleapis.com%2fauth%2fdrive%20https%3a%2f%2fwww.googleapis.com%2fauth%2fdrive.photos.readonly%20https%3a%2f%2fwww.googleapis.com%2fauth%2fpeopleapi.readonly\n",
            "\n",
            "Enter your authorization code:\n",
            "··········\n",
            "Mounted at /content/drive\n"
          ],
          "name": "stdout"
        }
      ]
    },
    {
      "cell_type": "code",
      "metadata": {
        "id": "-4dH43KUcycR",
        "colab_type": "code",
        "colab": {}
      },
      "source": [
        "import pandas as pd\n",
        "path = \"/content/drive/My Drive/datasentiment.csv\"\n",
        "df = pd.read_csv(path)"
      ],
      "execution_count": 0,
      "outputs": []
    },
    {
      "cell_type": "code",
      "metadata": {
        "id": "pQ2lbR5sdm_w",
        "colab_type": "code",
        "outputId": "a2d247b9-ac3a-4e17-de3b-ed1763ef53ac",
        "colab": {
          "base_uri": "https://localhost:8080/",
          "height": 158
        }
      },
      "source": [
        "import numpy as np \n",
        "print(df.head())"
      ],
      "execution_count": 0,
      "outputs": [
        {
          "output_type": "stream",
          "text": [
            "   Unnamed: 0  ...                         ratings\n",
            "0           0  ...    [0.042, 0.848, 0.11, 0.9722]\n",
            "1           1  ...   [0.101, 0.613, 0.287, 0.9972]\n",
            "2           2  ...    [0.004, 0.92, 0.076, 0.9897]\n",
            "3           3  ...  [0.191, 0.742, 0.067, -0.9899]\n",
            "4           4  ...  [0.164, 0.742, 0.094, -0.9492]\n",
            "\n",
            "[5 rows x 5 columns]\n"
          ],
          "name": "stdout"
        }
      ]
    },
    {
      "cell_type": "code",
      "metadata": {
        "id": "-QY5dBaQdrWh",
        "colab_type": "code",
        "colab": {}
      },
      "source": [
        "df2 = pd.DataFrame(df['ratings'].str.split(\",\").values.tolist())"
      ],
      "execution_count": 0,
      "outputs": []
    },
    {
      "cell_type": "code",
      "metadata": {
        "id": "MEP3Km0pfoEK",
        "colab_type": "code",
        "colab": {}
      },
      "source": [
        "df2.columns=[\"Negative\",\"Neutral\",\"Positive\",\"Compound\"]"
      ],
      "execution_count": 0,
      "outputs": []
    },
    {
      "cell_type": "code",
      "metadata": {
        "id": "_cE5GSwUit9E",
        "colab_type": "code",
        "outputId": "f06a5096-1dde-4fc4-c0f5-1bc7ec2abfe0",
        "colab": {
          "base_uri": "https://localhost:8080/",
          "height": 402
        }
      },
      "source": [
        "df2"
      ],
      "execution_count": 0,
      "outputs": [
        {
          "output_type": "execute_result",
          "data": {
            "text/html": [
              "<div>\n",
              "<style scoped>\n",
              "    .dataframe tbody tr th:only-of-type {\n",
              "        vertical-align: middle;\n",
              "    }\n",
              "\n",
              "    .dataframe tbody tr th {\n",
              "        vertical-align: top;\n",
              "    }\n",
              "\n",
              "    .dataframe thead th {\n",
              "        text-align: right;\n",
              "    }\n",
              "</style>\n",
              "<table border=\"1\" class=\"dataframe\">\n",
              "  <thead>\n",
              "    <tr style=\"text-align: right;\">\n",
              "      <th></th>\n",
              "      <th>Negative</th>\n",
              "      <th>Neutral</th>\n",
              "      <th>Positive</th>\n",
              "      <th>Compound</th>\n",
              "    </tr>\n",
              "  </thead>\n",
              "  <tbody>\n",
              "    <tr>\n",
              "      <th>0</th>\n",
              "      <td>[0.042</td>\n",
              "      <td>0.848</td>\n",
              "      <td>0.11</td>\n",
              "      <td>0.9722]</td>\n",
              "    </tr>\n",
              "    <tr>\n",
              "      <th>1</th>\n",
              "      <td>[0.101</td>\n",
              "      <td>0.613</td>\n",
              "      <td>0.287</td>\n",
              "      <td>0.9972]</td>\n",
              "    </tr>\n",
              "    <tr>\n",
              "      <th>2</th>\n",
              "      <td>[0.004</td>\n",
              "      <td>0.92</td>\n",
              "      <td>0.076</td>\n",
              "      <td>0.9897]</td>\n",
              "    </tr>\n",
              "    <tr>\n",
              "      <th>3</th>\n",
              "      <td>[0.191</td>\n",
              "      <td>0.742</td>\n",
              "      <td>0.067</td>\n",
              "      <td>-0.9899]</td>\n",
              "    </tr>\n",
              "    <tr>\n",
              "      <th>4</th>\n",
              "      <td>[0.164</td>\n",
              "      <td>0.742</td>\n",
              "      <td>0.094</td>\n",
              "      <td>-0.9492]</td>\n",
              "    </tr>\n",
              "    <tr>\n",
              "      <th>...</th>\n",
              "      <td>...</td>\n",
              "      <td>...</td>\n",
              "      <td>...</td>\n",
              "      <td>...</td>\n",
              "    </tr>\n",
              "    <tr>\n",
              "      <th>4591</th>\n",
              "      <td>[0.116</td>\n",
              "      <td>0.82</td>\n",
              "      <td>0.064</td>\n",
              "      <td>-0.9958]</td>\n",
              "    </tr>\n",
              "    <tr>\n",
              "      <th>4592</th>\n",
              "      <td>Null</td>\n",
              "      <td>None</td>\n",
              "      <td>None</td>\n",
              "      <td>None</td>\n",
              "    </tr>\n",
              "    <tr>\n",
              "      <th>4593</th>\n",
              "      <td>[0.041</td>\n",
              "      <td>0.792</td>\n",
              "      <td>0.167</td>\n",
              "      <td>0.9905]</td>\n",
              "    </tr>\n",
              "    <tr>\n",
              "      <th>4594</th>\n",
              "      <td>[0.056</td>\n",
              "      <td>0.88</td>\n",
              "      <td>0.064</td>\n",
              "      <td>-0.1027]</td>\n",
              "    </tr>\n",
              "    <tr>\n",
              "      <th>4595</th>\n",
              "      <td>[0.191</td>\n",
              "      <td>0.657</td>\n",
              "      <td>0.152</td>\n",
              "      <td>-0.9874]</td>\n",
              "    </tr>\n",
              "  </tbody>\n",
              "</table>\n",
              "<p>4596 rows × 4 columns</p>\n",
              "</div>"
            ],
            "text/plain": [
              "     Negative Neutral Positive   Compound\n",
              "0      [0.042   0.848     0.11    0.9722]\n",
              "1      [0.101   0.613    0.287    0.9972]\n",
              "2      [0.004    0.92    0.076    0.9897]\n",
              "3      [0.191   0.742    0.067   -0.9899]\n",
              "4      [0.164   0.742    0.094   -0.9492]\n",
              "...       ...     ...      ...        ...\n",
              "4591   [0.116    0.82    0.064   -0.9958]\n",
              "4592     Null    None     None       None\n",
              "4593   [0.041   0.792    0.167    0.9905]\n",
              "4594   [0.056    0.88    0.064   -0.1027]\n",
              "4595   [0.191   0.657    0.152   -0.9874]\n",
              "\n",
              "[4596 rows x 4 columns]"
            ]
          },
          "metadata": {
            "tags": []
          },
          "execution_count": 42
        }
      ]
    },
    {
      "cell_type": "code",
      "metadata": {
        "id": "-paI7kXllbbW",
        "colab_type": "code",
        "colab": {}
      },
      "source": [
        "try:  \n",
        "  df2['Negative'] = df2['Negative'].map(lambda x: x.lstrip('[').rstrip('aAbBcC')).astype(float)\n",
        "  df2['Compound'] = df2['Compound'].str.replace(r'\\D', '').astype(float)\n",
        "except:\n",
        "  None"
      ],
      "execution_count": 0,
      "outputs": []
    },
    {
      "cell_type": "code",
      "metadata": {
        "id": "ejopw0jwlv0e",
        "colab_type": "code",
        "colab": {}
      },
      "source": [
        " try:\n",
        "  df2['Neutral']=df2['Neutral'].astype(float)\n",
        "  df2['Positive']=df2['Positive'].astype(float)\n",
        "  df2['Compound']=df2['Compound'].astype(float)\n",
        "  df2['Negative']=df2['Negative'].astype(float)\n",
        "except:\n",
        "  None"
      ],
      "execution_count": 0,
      "outputs": []
    },
    {
      "cell_type": "code",
      "metadata": {
        "id": "Vkc8C6rFn_Or",
        "colab_type": "code",
        "outputId": "419b0077-c049-427c-c95b-a518bc0923a3",
        "colab": {
          "base_uri": "https://localhost:8080/",
          "height": 34
        }
      },
      "source": [
        ""
      ],
      "execution_count": 0,
      "outputs": [
        {
          "output_type": "execute_result",
          "data": {
            "text/plain": [
              "pandas.core.frame.DataFrame"
            ]
          },
          "metadata": {
            "tags": []
          },
          "execution_count": 67
        }
      ]
    },
    {
      "cell_type": "code",
      "metadata": {
        "id": "3WnfQeb_oEb0",
        "colab_type": "code",
        "outputId": "510561fd-f98d-4aef-acb6-b9d7e3b0170c",
        "colab": {
          "base_uri": "https://localhost:8080/",
          "height": 210
        }
      },
      "source": [
        "df2.info()"
      ],
      "execution_count": 0,
      "outputs": [
        {
          "output_type": "stream",
          "text": [
            "<class 'pandas.core.frame.DataFrame'>\n",
            "RangeIndex: 4596 entries, 0 to 4595\n",
            "Data columns (total 4 columns):\n",
            " #   Column    Non-Null Count  Dtype  \n",
            "---  ------    --------------  -----  \n",
            " 0   Negative  4596 non-null   object \n",
            " 1   Neutral   4474 non-null   float64\n",
            " 2   Positive  4474 non-null   float64\n",
            " 3   Compound  4474 non-null   float64\n",
            "dtypes: float64(3), object(1)\n",
            "memory usage: 143.8+ KB\n"
          ],
          "name": "stdout"
        }
      ]
    },
    {
      "cell_type": "code",
      "metadata": {
        "id": "jWIzxwTBoGQl",
        "colab_type": "code",
        "outputId": "bf1c582a-b4dc-42d1-dc63-61308cf55202",
        "colab": {
          "base_uri": "https://localhost:8080/",
          "height": 195
        }
      },
      "source": [
        "df.head()"
      ],
      "execution_count": 0,
      "outputs": [
        {
          "output_type": "execute_result",
          "data": {
            "text/html": [
              "<div>\n",
              "<style scoped>\n",
              "    .dataframe tbody tr th:only-of-type {\n",
              "        vertical-align: middle;\n",
              "    }\n",
              "\n",
              "    .dataframe tbody tr th {\n",
              "        vertical-align: top;\n",
              "    }\n",
              "\n",
              "    .dataframe thead th {\n",
              "        text-align: right;\n",
              "    }\n",
              "</style>\n",
              "<table border=\"1\" class=\"dataframe\">\n",
              "  <thead>\n",
              "    <tr style=\"text-align: right;\">\n",
              "      <th></th>\n",
              "      <th>Unnamed: 0</th>\n",
              "      <th>Song</th>\n",
              "      <th>Performer</th>\n",
              "      <th>Lyrics</th>\n",
              "      <th>ratings</th>\n",
              "    </tr>\n",
              "  </thead>\n",
              "  <tbody>\n",
              "    <tr>\n",
              "      <th>0</th>\n",
              "      <td>0</td>\n",
              "      <td>Firework</td>\n",
              "      <td>Katy Perry</td>\n",
              "      <td>Do ever feel like plastic bag Drifting wind , ...</td>\n",
              "      <td>[0.042, 0.848, 0.11, 0.9722]</td>\n",
              "    </tr>\n",
              "    <tr>\n",
              "      <th>1</th>\n",
              "      <td>1</td>\n",
              "      <td>Grenade</td>\n",
              "      <td>Bruno Mars</td>\n",
              "      <td>Easy come , easy go , 's live , oh Take , take...</td>\n",
              "      <td>[0.101, 0.613, 0.287, 0.9972]</td>\n",
              "    </tr>\n",
              "    <tr>\n",
              "      <th>2</th>\n",
              "      <td>2</td>\n",
              "      <td>What's My Name?</td>\n",
              "      <td>Rihanna Featuring Drake</td>\n",
              "      <td>Chorus : Rihanna Oh na-na , 's name ? Oh na-na...</td>\n",
              "      <td>[0.004, 0.92, 0.076, 0.9897]</td>\n",
              "    </tr>\n",
              "    <tr>\n",
              "      <th>3</th>\n",
              "      <td>3</td>\n",
              "      <td>Raise Your Glass</td>\n",
              "      <td>P!nk</td>\n",
              "      <td>Right , right , turn lights We 're gon na lose...</td>\n",
              "      <td>[0.191, 0.742, 0.067, -0.9899]</td>\n",
              "    </tr>\n",
              "    <tr>\n",
              "      <th>4</th>\n",
              "      <td>4</td>\n",
              "      <td>We R Who We R</td>\n",
              "      <td>Ke$ha</td>\n",
              "      <td>Hot dangerous If ’ one us , roll us 'Cause mak...</td>\n",
              "      <td>[0.164, 0.742, 0.094, -0.9492]</td>\n",
              "    </tr>\n",
              "  </tbody>\n",
              "</table>\n",
              "</div>"
            ],
            "text/plain": [
              "   Unnamed: 0  ...                         ratings\n",
              "0           0  ...    [0.042, 0.848, 0.11, 0.9722]\n",
              "1           1  ...   [0.101, 0.613, 0.287, 0.9972]\n",
              "2           2  ...    [0.004, 0.92, 0.076, 0.9897]\n",
              "3           3  ...  [0.191, 0.742, 0.067, -0.9899]\n",
              "4           4  ...  [0.164, 0.742, 0.094, -0.9492]\n",
              "\n",
              "[5 rows x 5 columns]"
            ]
          },
          "metadata": {
            "tags": []
          },
          "execution_count": 73
        }
      ]
    },
    {
      "cell_type": "code",
      "metadata": {
        "id": "zCVHxsUso5Uo",
        "colab_type": "code",
        "colab": {}
      },
      "source": [
        "df.drop([\"Lyrics\",\"ratings\"],axis=1,inplace=True)"
      ],
      "execution_count": 0,
      "outputs": []
    },
    {
      "cell_type": "code",
      "metadata": {
        "id": "Bc-ELBo3o-_l",
        "colab_type": "code",
        "outputId": "39127bbb-99e0-4045-f752-fe7ef13cd58e",
        "colab": {
          "base_uri": "https://localhost:8080/",
          "height": 314
        }
      },
      "source": [
        ""
      ],
      "execution_count": 0,
      "outputs": [
        {
          "output_type": "error",
          "ename": "KeyError",
          "evalue": "ignored",
          "traceback": [
            "\u001b[0;31m---------------------------------------------------------------------------\u001b[0m",
            "\u001b[0;31mKeyError\u001b[0m                                  Traceback (most recent call last)",
            "\u001b[0;32m<ipython-input-82-b1b3cdc62864>\u001b[0m in \u001b[0;36m<module>\u001b[0;34m()\u001b[0m\n\u001b[0;32m----> 1\u001b[0;31m \u001b[0mdf\u001b[0m\u001b[0;34m.\u001b[0m\u001b[0mdrop\u001b[0m\u001b[0;34m(\u001b[0m\u001b[0;34m[\u001b[0m\u001b[0;34m\"0\"\u001b[0m\u001b[0;34m]\u001b[0m\u001b[0;34m,\u001b[0m\u001b[0maxis\u001b[0m\u001b[0;34m=\u001b[0m\u001b[0;36m1\u001b[0m\u001b[0;34m)\u001b[0m\u001b[0;34m\u001b[0m\u001b[0;34m\u001b[0m\u001b[0m\n\u001b[0m",
            "\u001b[0;32m/usr/local/lib/python3.6/dist-packages/pandas/core/frame.py\u001b[0m in \u001b[0;36mdrop\u001b[0;34m(self, labels, axis, index, columns, level, inplace, errors)\u001b[0m\n\u001b[1;32m   3995\u001b[0m             \u001b[0mlevel\u001b[0m\u001b[0;34m=\u001b[0m\u001b[0mlevel\u001b[0m\u001b[0;34m,\u001b[0m\u001b[0;34m\u001b[0m\u001b[0;34m\u001b[0m\u001b[0m\n\u001b[1;32m   3996\u001b[0m             \u001b[0minplace\u001b[0m\u001b[0;34m=\u001b[0m\u001b[0minplace\u001b[0m\u001b[0;34m,\u001b[0m\u001b[0;34m\u001b[0m\u001b[0;34m\u001b[0m\u001b[0m\n\u001b[0;32m-> 3997\u001b[0;31m             \u001b[0merrors\u001b[0m\u001b[0;34m=\u001b[0m\u001b[0merrors\u001b[0m\u001b[0;34m,\u001b[0m\u001b[0;34m\u001b[0m\u001b[0;34m\u001b[0m\u001b[0m\n\u001b[0m\u001b[1;32m   3998\u001b[0m         )\n\u001b[1;32m   3999\u001b[0m \u001b[0;34m\u001b[0m\u001b[0m\n",
            "\u001b[0;32m/usr/local/lib/python3.6/dist-packages/pandas/core/generic.py\u001b[0m in \u001b[0;36mdrop\u001b[0;34m(self, labels, axis, index, columns, level, inplace, errors)\u001b[0m\n\u001b[1;32m   3934\u001b[0m         \u001b[0;32mfor\u001b[0m \u001b[0maxis\u001b[0m\u001b[0;34m,\u001b[0m \u001b[0mlabels\u001b[0m \u001b[0;32min\u001b[0m \u001b[0maxes\u001b[0m\u001b[0;34m.\u001b[0m\u001b[0mitems\u001b[0m\u001b[0;34m(\u001b[0m\u001b[0;34m)\u001b[0m\u001b[0;34m:\u001b[0m\u001b[0;34m\u001b[0m\u001b[0;34m\u001b[0m\u001b[0m\n\u001b[1;32m   3935\u001b[0m             \u001b[0;32mif\u001b[0m \u001b[0mlabels\u001b[0m \u001b[0;32mis\u001b[0m \u001b[0;32mnot\u001b[0m \u001b[0;32mNone\u001b[0m\u001b[0;34m:\u001b[0m\u001b[0;34m\u001b[0m\u001b[0;34m\u001b[0m\u001b[0m\n\u001b[0;32m-> 3936\u001b[0;31m                 \u001b[0mobj\u001b[0m \u001b[0;34m=\u001b[0m \u001b[0mobj\u001b[0m\u001b[0;34m.\u001b[0m\u001b[0m_drop_axis\u001b[0m\u001b[0;34m(\u001b[0m\u001b[0mlabels\u001b[0m\u001b[0;34m,\u001b[0m \u001b[0maxis\u001b[0m\u001b[0;34m,\u001b[0m \u001b[0mlevel\u001b[0m\u001b[0;34m=\u001b[0m\u001b[0mlevel\u001b[0m\u001b[0;34m,\u001b[0m \u001b[0merrors\u001b[0m\u001b[0;34m=\u001b[0m\u001b[0merrors\u001b[0m\u001b[0;34m)\u001b[0m\u001b[0;34m\u001b[0m\u001b[0;34m\u001b[0m\u001b[0m\n\u001b[0m\u001b[1;32m   3937\u001b[0m \u001b[0;34m\u001b[0m\u001b[0m\n\u001b[1;32m   3938\u001b[0m         \u001b[0;32mif\u001b[0m \u001b[0minplace\u001b[0m\u001b[0;34m:\u001b[0m\u001b[0;34m\u001b[0m\u001b[0;34m\u001b[0m\u001b[0m\n",
            "\u001b[0;32m/usr/local/lib/python3.6/dist-packages/pandas/core/generic.py\u001b[0m in \u001b[0;36m_drop_axis\u001b[0;34m(self, labels, axis, level, errors)\u001b[0m\n\u001b[1;32m   3968\u001b[0m                 \u001b[0mnew_axis\u001b[0m \u001b[0;34m=\u001b[0m \u001b[0maxis\u001b[0m\u001b[0;34m.\u001b[0m\u001b[0mdrop\u001b[0m\u001b[0;34m(\u001b[0m\u001b[0mlabels\u001b[0m\u001b[0;34m,\u001b[0m \u001b[0mlevel\u001b[0m\u001b[0;34m=\u001b[0m\u001b[0mlevel\u001b[0m\u001b[0;34m,\u001b[0m \u001b[0merrors\u001b[0m\u001b[0;34m=\u001b[0m\u001b[0merrors\u001b[0m\u001b[0;34m)\u001b[0m\u001b[0;34m\u001b[0m\u001b[0;34m\u001b[0m\u001b[0m\n\u001b[1;32m   3969\u001b[0m             \u001b[0;32melse\u001b[0m\u001b[0;34m:\u001b[0m\u001b[0;34m\u001b[0m\u001b[0;34m\u001b[0m\u001b[0m\n\u001b[0;32m-> 3970\u001b[0;31m                 \u001b[0mnew_axis\u001b[0m \u001b[0;34m=\u001b[0m \u001b[0maxis\u001b[0m\u001b[0;34m.\u001b[0m\u001b[0mdrop\u001b[0m\u001b[0;34m(\u001b[0m\u001b[0mlabels\u001b[0m\u001b[0;34m,\u001b[0m \u001b[0merrors\u001b[0m\u001b[0;34m=\u001b[0m\u001b[0merrors\u001b[0m\u001b[0;34m)\u001b[0m\u001b[0;34m\u001b[0m\u001b[0;34m\u001b[0m\u001b[0m\n\u001b[0m\u001b[1;32m   3971\u001b[0m             \u001b[0mresult\u001b[0m \u001b[0;34m=\u001b[0m \u001b[0mself\u001b[0m\u001b[0;34m.\u001b[0m\u001b[0mreindex\u001b[0m\u001b[0;34m(\u001b[0m\u001b[0;34m**\u001b[0m\u001b[0;34m{\u001b[0m\u001b[0maxis_name\u001b[0m\u001b[0;34m:\u001b[0m \u001b[0mnew_axis\u001b[0m\u001b[0;34m}\u001b[0m\u001b[0;34m)\u001b[0m\u001b[0;34m\u001b[0m\u001b[0;34m\u001b[0m\u001b[0m\n\u001b[1;32m   3972\u001b[0m \u001b[0;34m\u001b[0m\u001b[0m\n",
            "\u001b[0;32m/usr/local/lib/python3.6/dist-packages/pandas/core/indexes/base.py\u001b[0m in \u001b[0;36mdrop\u001b[0;34m(self, labels, errors)\u001b[0m\n\u001b[1;32m   5015\u001b[0m         \u001b[0;32mif\u001b[0m \u001b[0mmask\u001b[0m\u001b[0;34m.\u001b[0m\u001b[0many\u001b[0m\u001b[0;34m(\u001b[0m\u001b[0;34m)\u001b[0m\u001b[0;34m:\u001b[0m\u001b[0;34m\u001b[0m\u001b[0;34m\u001b[0m\u001b[0m\n\u001b[1;32m   5016\u001b[0m             \u001b[0;32mif\u001b[0m \u001b[0merrors\u001b[0m \u001b[0;34m!=\u001b[0m \u001b[0;34m\"ignore\"\u001b[0m\u001b[0;34m:\u001b[0m\u001b[0;34m\u001b[0m\u001b[0;34m\u001b[0m\u001b[0m\n\u001b[0;32m-> 5017\u001b[0;31m                 \u001b[0;32mraise\u001b[0m \u001b[0mKeyError\u001b[0m\u001b[0;34m(\u001b[0m\u001b[0;34mf\"{labels[mask]} not found in axis\"\u001b[0m\u001b[0;34m)\u001b[0m\u001b[0;34m\u001b[0m\u001b[0;34m\u001b[0m\u001b[0m\n\u001b[0m\u001b[1;32m   5018\u001b[0m             \u001b[0mindexer\u001b[0m \u001b[0;34m=\u001b[0m \u001b[0mindexer\u001b[0m\u001b[0;34m[\u001b[0m\u001b[0;34m~\u001b[0m\u001b[0mmask\u001b[0m\u001b[0;34m]\u001b[0m\u001b[0;34m\u001b[0m\u001b[0;34m\u001b[0m\u001b[0m\n\u001b[1;32m   5019\u001b[0m         \u001b[0;32mreturn\u001b[0m \u001b[0mself\u001b[0m\u001b[0;34m.\u001b[0m\u001b[0mdelete\u001b[0m\u001b[0;34m(\u001b[0m\u001b[0mindexer\u001b[0m\u001b[0;34m)\u001b[0m\u001b[0;34m\u001b[0m\u001b[0;34m\u001b[0m\u001b[0m\n",
            "\u001b[0;31mKeyError\u001b[0m: \"['0'] not found in axis\""
          ]
        }
      ]
    },
    {
      "cell_type": "code",
      "metadata": {
        "id": "nS86zwwSpBs8",
        "colab_type": "code",
        "colab": {}
      },
      "source": [
        "finaldf = pd.concat([df,df2], axis=1)"
      ],
      "execution_count": 0,
      "outputs": []
    },
    {
      "cell_type": "code",
      "metadata": {
        "id": "jLtRkbI2p0TV",
        "colab_type": "code",
        "outputId": "080f2d7e-ac48-49e2-95d1-602f61d9ba1a",
        "colab": {
          "base_uri": "https://localhost:8080/",
          "height": 195
        }
      },
      "source": [
        "finaldf.head()"
      ],
      "execution_count": 0,
      "outputs": [
        {
          "output_type": "execute_result",
          "data": {
            "text/html": [
              "<div>\n",
              "<style scoped>\n",
              "    .dataframe tbody tr th:only-of-type {\n",
              "        vertical-align: middle;\n",
              "    }\n",
              "\n",
              "    .dataframe tbody tr th {\n",
              "        vertical-align: top;\n",
              "    }\n",
              "\n",
              "    .dataframe thead th {\n",
              "        text-align: right;\n",
              "    }\n",
              "</style>\n",
              "<table border=\"1\" class=\"dataframe\">\n",
              "  <thead>\n",
              "    <tr style=\"text-align: right;\">\n",
              "      <th></th>\n",
              "      <th>Unnamed: 0</th>\n",
              "      <th>Song</th>\n",
              "      <th>Performer</th>\n",
              "      <th>Negative</th>\n",
              "      <th>Neutral</th>\n",
              "      <th>Positive</th>\n",
              "      <th>Compound</th>\n",
              "    </tr>\n",
              "  </thead>\n",
              "  <tbody>\n",
              "    <tr>\n",
              "      <th>0</th>\n",
              "      <td>0</td>\n",
              "      <td>Firework</td>\n",
              "      <td>Katy Perry</td>\n",
              "      <td>0.042</td>\n",
              "      <td>0.848</td>\n",
              "      <td>0.110</td>\n",
              "      <td>9722.0</td>\n",
              "    </tr>\n",
              "    <tr>\n",
              "      <th>1</th>\n",
              "      <td>1</td>\n",
              "      <td>Grenade</td>\n",
              "      <td>Bruno Mars</td>\n",
              "      <td>0.101</td>\n",
              "      <td>0.613</td>\n",
              "      <td>0.287</td>\n",
              "      <td>9972.0</td>\n",
              "    </tr>\n",
              "    <tr>\n",
              "      <th>2</th>\n",
              "      <td>2</td>\n",
              "      <td>What's My Name?</td>\n",
              "      <td>Rihanna Featuring Drake</td>\n",
              "      <td>0.004</td>\n",
              "      <td>0.920</td>\n",
              "      <td>0.076</td>\n",
              "      <td>9897.0</td>\n",
              "    </tr>\n",
              "    <tr>\n",
              "      <th>3</th>\n",
              "      <td>3</td>\n",
              "      <td>Raise Your Glass</td>\n",
              "      <td>P!nk</td>\n",
              "      <td>0.191</td>\n",
              "      <td>0.742</td>\n",
              "      <td>0.067</td>\n",
              "      <td>9899.0</td>\n",
              "    </tr>\n",
              "    <tr>\n",
              "      <th>4</th>\n",
              "      <td>4</td>\n",
              "      <td>We R Who We R</td>\n",
              "      <td>Ke$ha</td>\n",
              "      <td>0.164</td>\n",
              "      <td>0.742</td>\n",
              "      <td>0.094</td>\n",
              "      <td>9492.0</td>\n",
              "    </tr>\n",
              "  </tbody>\n",
              "</table>\n",
              "</div>"
            ],
            "text/plain": [
              "   Unnamed: 0              Song  ... Positive Compound\n",
              "0           0          Firework  ...    0.110   9722.0\n",
              "1           1           Grenade  ...    0.287   9972.0\n",
              "2           2   What's My Name?  ...    0.076   9897.0\n",
              "3           3  Raise Your Glass  ...    0.067   9899.0\n",
              "4           4     We R Who We R  ...    0.094   9492.0\n",
              "\n",
              "[5 rows x 7 columns]"
            ]
          },
          "metadata": {
            "tags": []
          },
          "execution_count": 84
        }
      ]
    },
    {
      "cell_type": "code",
      "metadata": {
        "id": "tGZyV1w9p18T",
        "colab_type": "code",
        "colab": {}
      },
      "source": [
        "from sklearn.preprocessing import normalize\n",
        "from sklearn.neighbors import KNeighborsClassifier\n",
        "from sklearn import preprocessing\n",
        "finaldf = finaldf.dropna(how='any',axis=0)"
      ],
      "execution_count": 0,
      "outputs": []
    },
    {
      "cell_type": "code",
      "metadata": {
        "id": "cAvWILzntsfc",
        "colab_type": "code",
        "outputId": "168cdf6f-0c2b-4d88-d512-292c1cdbaf34",
        "colab": {
          "base_uri": "https://localhost:8080/",
          "height": 402
        }
      },
      "source": [
        "finaldf"
      ],
      "execution_count": 0,
      "outputs": [
        {
          "output_type": "execute_result",
          "data": {
            "text/html": [
              "<div>\n",
              "<style scoped>\n",
              "    .dataframe tbody tr th:only-of-type {\n",
              "        vertical-align: middle;\n",
              "    }\n",
              "\n",
              "    .dataframe tbody tr th {\n",
              "        vertical-align: top;\n",
              "    }\n",
              "\n",
              "    .dataframe thead th {\n",
              "        text-align: right;\n",
              "    }\n",
              "</style>\n",
              "<table border=\"1\" class=\"dataframe\">\n",
              "  <thead>\n",
              "    <tr style=\"text-align: right;\">\n",
              "      <th></th>\n",
              "      <th>Unnamed: 0</th>\n",
              "      <th>Song</th>\n",
              "      <th>Performer</th>\n",
              "      <th>Negative</th>\n",
              "      <th>Neutral</th>\n",
              "      <th>Positive</th>\n",
              "      <th>Compound</th>\n",
              "    </tr>\n",
              "  </thead>\n",
              "  <tbody>\n",
              "    <tr>\n",
              "      <th>0</th>\n",
              "      <td>0</td>\n",
              "      <td>Firework</td>\n",
              "      <td>Katy Perry</td>\n",
              "      <td>0.042</td>\n",
              "      <td>0.848</td>\n",
              "      <td>0.110</td>\n",
              "      <td>9722.0</td>\n",
              "    </tr>\n",
              "    <tr>\n",
              "      <th>1</th>\n",
              "      <td>1</td>\n",
              "      <td>Grenade</td>\n",
              "      <td>Bruno Mars</td>\n",
              "      <td>0.101</td>\n",
              "      <td>0.613</td>\n",
              "      <td>0.287</td>\n",
              "      <td>9972.0</td>\n",
              "    </tr>\n",
              "    <tr>\n",
              "      <th>2</th>\n",
              "      <td>2</td>\n",
              "      <td>What's My Name?</td>\n",
              "      <td>Rihanna Featuring Drake</td>\n",
              "      <td>0.004</td>\n",
              "      <td>0.920</td>\n",
              "      <td>0.076</td>\n",
              "      <td>9897.0</td>\n",
              "    </tr>\n",
              "    <tr>\n",
              "      <th>3</th>\n",
              "      <td>3</td>\n",
              "      <td>Raise Your Glass</td>\n",
              "      <td>P!nk</td>\n",
              "      <td>0.191</td>\n",
              "      <td>0.742</td>\n",
              "      <td>0.067</td>\n",
              "      <td>9899.0</td>\n",
              "    </tr>\n",
              "    <tr>\n",
              "      <th>4</th>\n",
              "      <td>4</td>\n",
              "      <td>We R Who We R</td>\n",
              "      <td>Ke$ha</td>\n",
              "      <td>0.164</td>\n",
              "      <td>0.742</td>\n",
              "      <td>0.094</td>\n",
              "      <td>9492.0</td>\n",
              "    </tr>\n",
              "    <tr>\n",
              "      <th>...</th>\n",
              "      <td>...</td>\n",
              "      <td>...</td>\n",
              "      <td>...</td>\n",
              "      <td>...</td>\n",
              "      <td>...</td>\n",
              "      <td>...</td>\n",
              "      <td>...</td>\n",
              "    </tr>\n",
              "    <tr>\n",
              "      <th>4590</th>\n",
              "      <td>4590</td>\n",
              "      <td>It's Nice To Have A Friend</td>\n",
              "      <td>Taylor Swift</td>\n",
              "      <td>0.024</td>\n",
              "      <td>0.640</td>\n",
              "      <td>0.335</td>\n",
              "      <td>9952.0</td>\n",
              "    </tr>\n",
              "    <tr>\n",
              "      <th>4591</th>\n",
              "      <td>4591</td>\n",
              "      <td>Throw That</td>\n",
              "      <td>Slaughterhouse Featuring Eminem</td>\n",
              "      <td>0.116</td>\n",
              "      <td>0.820</td>\n",
              "      <td>0.064</td>\n",
              "      <td>9958.0</td>\n",
              "    </tr>\n",
              "    <tr>\n",
              "      <th>4593</th>\n",
              "      <td>4593</td>\n",
              "      <td>Happy Now</td>\n",
              "      <td>Zedd &amp; Elley Duhe</td>\n",
              "      <td>0.041</td>\n",
              "      <td>0.792</td>\n",
              "      <td>0.167</td>\n",
              "      <td>9905.0</td>\n",
              "    </tr>\n",
              "    <tr>\n",
              "      <th>4594</th>\n",
              "      <td>4594</td>\n",
              "      <td>Younger Now</td>\n",
              "      <td>Miley Cyrus</td>\n",
              "      <td>0.056</td>\n",
              "      <td>0.880</td>\n",
              "      <td>0.064</td>\n",
              "      <td>1027.0</td>\n",
              "    </tr>\n",
              "    <tr>\n",
              "      <th>4595</th>\n",
              "      <td>4595</td>\n",
              "      <td>Its Every Night Sis</td>\n",
              "      <td>RiceGum Featuring Alissa Violet</td>\n",
              "      <td>0.191</td>\n",
              "      <td>0.657</td>\n",
              "      <td>0.152</td>\n",
              "      <td>9874.0</td>\n",
              "    </tr>\n",
              "  </tbody>\n",
              "</table>\n",
              "<p>4474 rows × 7 columns</p>\n",
              "</div>"
            ],
            "text/plain": [
              "      Unnamed: 0                        Song  ... Positive Compound\n",
              "0              0                    Firework  ...    0.110   9722.0\n",
              "1              1                     Grenade  ...    0.287   9972.0\n",
              "2              2             What's My Name?  ...    0.076   9897.0\n",
              "3              3            Raise Your Glass  ...    0.067   9899.0\n",
              "4              4               We R Who We R  ...    0.094   9492.0\n",
              "...          ...                         ...  ...      ...      ...\n",
              "4590        4590  It's Nice To Have A Friend  ...    0.335   9952.0\n",
              "4591        4591                  Throw That  ...    0.064   9958.0\n",
              "4593        4593                   Happy Now  ...    0.167   9905.0\n",
              "4594        4594                 Younger Now  ...    0.064   1027.0\n",
              "4595        4595         Its Every Night Sis  ...    0.152   9874.0\n",
              "\n",
              "[4474 rows x 7 columns]"
            ]
          },
          "metadata": {
            "tags": []
          },
          "execution_count": 89
        }
      ]
    },
    {
      "cell_type": "code",
      "metadata": {
        "id": "3cS6VYdAt2dW",
        "colab_type": "code",
        "outputId": "0aee019b-3bac-4557-ff8b-df0bc6a7f723",
        "colab": {
          "base_uri": "https://localhost:8080/",
          "height": 122
        }
      },
      "source": [
        "finaldf[\"Compound\"]=finaldf[\"Compound\"]/10"
      ],
      "execution_count": 0,
      "outputs": [
        {
          "output_type": "stream",
          "text": [
            "/usr/local/lib/python3.6/dist-packages/ipykernel_launcher.py:1: SettingWithCopyWarning: \n",
            "A value is trying to be set on a copy of a slice from a DataFrame.\n",
            "Try using .loc[row_indexer,col_indexer] = value instead\n",
            "\n",
            "See the caveats in the documentation: https://pandas.pydata.org/pandas-docs/stable/user_guide/indexing.html#returning-a-view-versus-a-copy\n",
            "  \"\"\"Entry point for launching an IPython kernel.\n"
          ],
          "name": "stderr"
        }
      ]
    },
    {
      "cell_type": "code",
      "metadata": {
        "id": "2Fupfm4Lvh86",
        "colab_type": "code",
        "outputId": "7284aeea-b2f4-4252-a7d5-5f23df1c0361",
        "colab": {
          "base_uri": "https://localhost:8080/",
          "height": 402
        }
      },
      "source": [
        "finaldf"
      ],
      "execution_count": 0,
      "outputs": [
        {
          "output_type": "execute_result",
          "data": {
            "text/html": [
              "<div>\n",
              "<style scoped>\n",
              "    .dataframe tbody tr th:only-of-type {\n",
              "        vertical-align: middle;\n",
              "    }\n",
              "\n",
              "    .dataframe tbody tr th {\n",
              "        vertical-align: top;\n",
              "    }\n",
              "\n",
              "    .dataframe thead th {\n",
              "        text-align: right;\n",
              "    }\n",
              "</style>\n",
              "<table border=\"1\" class=\"dataframe\">\n",
              "  <thead>\n",
              "    <tr style=\"text-align: right;\">\n",
              "      <th></th>\n",
              "      <th>Unnamed: 0</th>\n",
              "      <th>Song</th>\n",
              "      <th>Performer</th>\n",
              "      <th>Negative</th>\n",
              "      <th>Neutral</th>\n",
              "      <th>Positive</th>\n",
              "      <th>Compound</th>\n",
              "    </tr>\n",
              "  </thead>\n",
              "  <tbody>\n",
              "    <tr>\n",
              "      <th>0</th>\n",
              "      <td>0</td>\n",
              "      <td>Firework</td>\n",
              "      <td>Katy Perry</td>\n",
              "      <td>0.042</td>\n",
              "      <td>0.848</td>\n",
              "      <td>0.110</td>\n",
              "      <td>0.9722</td>\n",
              "    </tr>\n",
              "    <tr>\n",
              "      <th>1</th>\n",
              "      <td>1</td>\n",
              "      <td>Grenade</td>\n",
              "      <td>Bruno Mars</td>\n",
              "      <td>0.101</td>\n",
              "      <td>0.613</td>\n",
              "      <td>0.287</td>\n",
              "      <td>0.9972</td>\n",
              "    </tr>\n",
              "    <tr>\n",
              "      <th>2</th>\n",
              "      <td>2</td>\n",
              "      <td>What's My Name?</td>\n",
              "      <td>Rihanna Featuring Drake</td>\n",
              "      <td>0.004</td>\n",
              "      <td>0.920</td>\n",
              "      <td>0.076</td>\n",
              "      <td>0.9897</td>\n",
              "    </tr>\n",
              "    <tr>\n",
              "      <th>3</th>\n",
              "      <td>3</td>\n",
              "      <td>Raise Your Glass</td>\n",
              "      <td>P!nk</td>\n",
              "      <td>0.191</td>\n",
              "      <td>0.742</td>\n",
              "      <td>0.067</td>\n",
              "      <td>0.9899</td>\n",
              "    </tr>\n",
              "    <tr>\n",
              "      <th>4</th>\n",
              "      <td>4</td>\n",
              "      <td>We R Who We R</td>\n",
              "      <td>Ke$ha</td>\n",
              "      <td>0.164</td>\n",
              "      <td>0.742</td>\n",
              "      <td>0.094</td>\n",
              "      <td>0.9492</td>\n",
              "    </tr>\n",
              "    <tr>\n",
              "      <th>...</th>\n",
              "      <td>...</td>\n",
              "      <td>...</td>\n",
              "      <td>...</td>\n",
              "      <td>...</td>\n",
              "      <td>...</td>\n",
              "      <td>...</td>\n",
              "      <td>...</td>\n",
              "    </tr>\n",
              "    <tr>\n",
              "      <th>4590</th>\n",
              "      <td>4590</td>\n",
              "      <td>It's Nice To Have A Friend</td>\n",
              "      <td>Taylor Swift</td>\n",
              "      <td>0.024</td>\n",
              "      <td>0.640</td>\n",
              "      <td>0.335</td>\n",
              "      <td>0.9952</td>\n",
              "    </tr>\n",
              "    <tr>\n",
              "      <th>4591</th>\n",
              "      <td>4591</td>\n",
              "      <td>Throw That</td>\n",
              "      <td>Slaughterhouse Featuring Eminem</td>\n",
              "      <td>0.116</td>\n",
              "      <td>0.820</td>\n",
              "      <td>0.064</td>\n",
              "      <td>0.9958</td>\n",
              "    </tr>\n",
              "    <tr>\n",
              "      <th>4593</th>\n",
              "      <td>4593</td>\n",
              "      <td>Happy Now</td>\n",
              "      <td>Zedd &amp; Elley Duhe</td>\n",
              "      <td>0.041</td>\n",
              "      <td>0.792</td>\n",
              "      <td>0.167</td>\n",
              "      <td>0.9905</td>\n",
              "    </tr>\n",
              "    <tr>\n",
              "      <th>4594</th>\n",
              "      <td>4594</td>\n",
              "      <td>Younger Now</td>\n",
              "      <td>Miley Cyrus</td>\n",
              "      <td>0.056</td>\n",
              "      <td>0.880</td>\n",
              "      <td>0.064</td>\n",
              "      <td>0.1027</td>\n",
              "    </tr>\n",
              "    <tr>\n",
              "      <th>4595</th>\n",
              "      <td>4595</td>\n",
              "      <td>Its Every Night Sis</td>\n",
              "      <td>RiceGum Featuring Alissa Violet</td>\n",
              "      <td>0.191</td>\n",
              "      <td>0.657</td>\n",
              "      <td>0.152</td>\n",
              "      <td>0.9874</td>\n",
              "    </tr>\n",
              "  </tbody>\n",
              "</table>\n",
              "<p>4474 rows × 7 columns</p>\n",
              "</div>"
            ],
            "text/plain": [
              "      Unnamed: 0                        Song  ... Positive Compound\n",
              "0              0                    Firework  ...    0.110   0.9722\n",
              "1              1                     Grenade  ...    0.287   0.9972\n",
              "2              2             What's My Name?  ...    0.076   0.9897\n",
              "3              3            Raise Your Glass  ...    0.067   0.9899\n",
              "4              4               We R Who We R  ...    0.094   0.9492\n",
              "...          ...                         ...  ...      ...      ...\n",
              "4590        4590  It's Nice To Have A Friend  ...    0.335   0.9952\n",
              "4591        4591                  Throw That  ...    0.064   0.9958\n",
              "4593        4593                   Happy Now  ...    0.167   0.9905\n",
              "4594        4594                 Younger Now  ...    0.064   0.1027\n",
              "4595        4595         Its Every Night Sis  ...    0.152   0.9874\n",
              "\n",
              "[4474 rows x 7 columns]"
            ]
          },
          "metadata": {
            "tags": []
          },
          "execution_count": 104
        }
      ]
    },
    {
      "cell_type": "code",
      "metadata": {
        "id": "QRdC_Zytwq_k",
        "colab_type": "code",
        "colab": {}
      },
      "source": [
        "x = list(zip(finaldf.Negative.tolist(),finaldf.Neutral.tolist(),finaldf.Positive.tolist(),finaldf.Compound.tolist()))\n",
        "y=finaldf.Song.tolist()"
      ],
      "execution_count": 0,
      "outputs": []
    },
    {
      "cell_type": "code",
      "metadata": {
        "id": "JCHxZAFzxx1Y",
        "colab_type": "code",
        "outputId": "3288fdba-cf53-43f5-b355-482a3a14a0ad",
        "colab": {
          "base_uri": "https://localhost:8080/",
          "height": 160
        }
      },
      "source": [
        "niegh1 = KNeighborsClassifier(n_neighbors = 5, p = 1)\n",
        "niegh1.fit(x,y)"
      ],
      "execution_count": 0,
      "outputs": [
        {
          "output_type": "stream",
          "text": [
            "/usr/local/lib/python3.6/dist-packages/sklearn/utils/validation.py:755: FutureWarning: Beginning in version 0.22, arrays of bytes/strings will be converted to decimal numbers if dtype='numeric'. It is recommended that you convert the array to a float dtype before using it in scikit-learn, for example by using your_array = your_array.astype(np.float64).\n",
            "  estimator=estimator)\n",
            "/usr/local/lib/python3.6/dist-packages/sklearn/neighbors/_base.py:400: FutureWarning: Beginning in version 0.22, arrays of bytes/strings will be converted to decimal numbers if dtype='numeric'. It is recommended that you convert the array to a float dtype before using it in scikit-learn, for example by using your_array = your_array.astype(np.float64).\n",
            "  X = check_array(X, accept_sparse='csr')\n"
          ],
          "name": "stderr"
        },
        {
          "output_type": "execute_result",
          "data": {
            "text/plain": [
              "KNeighborsClassifier(algorithm='auto', leaf_size=30, metric='minkowski',\n",
              "                     metric_params=None, n_jobs=None, n_neighbors=5, p=1,\n",
              "                     weights='uniform')"
            ]
          },
          "metadata": {
            "tags": []
          },
          "execution_count": 106
        }
      ]
    },
    {
      "cell_type": "code",
      "metadata": {
        "id": "cQDO_D6Zx8yi",
        "colab_type": "code",
        "colab": {}
      },
      "source": [
        "predict=niegh1.kneighbors([[0, 0.2, 0.8,0.9]])"
      ],
      "execution_count": 0,
      "outputs": []
    },
    {
      "cell_type": "code",
      "metadata": {
        "id": "69QsrEzPyg37",
        "colab_type": "code",
        "outputId": "269681bd-7999-49e6-c870-ac20e10da2a6",
        "colab": {
          "base_uri": "https://localhost:8080/",
          "height": 105
        }
      },
      "source": [
        "for x in np.nditer(predict[1]):\n",
        "  print(y[x])"
      ],
      "execution_count": 0,
      "outputs": [
        {
          "output_type": "stream",
          "text": [
            "Girls Like You\n",
            "Selah\n",
            "Hallelujah\n",
            "Hallelujah (Vancouver Winter 2010 Version)\n",
            "Who You Love\n"
          ],
          "name": "stdout"
        }
      ]
    },
    {
      "cell_type": "code",
      "metadata": {
        "id": "8m69hdvByiPd",
        "colab_type": "code",
        "outputId": "23bd4663-b1b5-4840-e10d-9ca312fa922f",
        "colab": {
          "base_uri": "https://localhost:8080/",
          "height": 34
        }
      },
      "source": [
        "from google.colab import drive\n",
        "drive.mount('drive')\n"
      ],
      "execution_count": 0,
      "outputs": [
        {
          "output_type": "stream",
          "text": [
            "Drive already mounted at drive; to attempt to forcibly remount, call drive.mount(\"drive\", force_remount=True).\n"
          ],
          "name": "stdout"
        }
      ]
    },
    {
      "cell_type": "code",
      "metadata": {
        "id": "4-cEf-1G2Ums",
        "colab_type": "code",
        "colab": {}
      },
      "source": [
        "finaldf.to_csv('END.csv')\n",
        "!cp END.csv \"drive/My Drive/\""
      ],
      "execution_count": 0,
      "outputs": []
    },
    {
      "cell_type": "code",
      "metadata": {
        "id": "Vz9v1TTK2YXu",
        "colab_type": "code",
        "colab": {}
      },
      "source": [
        ""
      ],
      "execution_count": 0,
      "outputs": []
    }
  ]
}